{
 "cells": [
  {
   "cell_type": "code",
   "execution_count": 2,
   "id": "e0ac64b3",
   "metadata": {},
   "outputs": [],
   "source": [
    "import pandas as pd\n",
    "import os\n",
    "import matplotlib.pyplot as plt"
   ]
  },
  {
   "cell_type": "markdown",
   "id": "f897ecfe",
   "metadata": {},
   "source": [
    "#### Merge data from each month into one CSV"
   ]
  },
  {
   "cell_type": "code",
   "execution_count": 9,
   "id": "bfb0cd5e",
   "metadata": {},
   "outputs": [
    {
     "name": "stdout",
     "output_type": "stream",
     "text": [
      "  Order ID                     Product Quantity Ordered Price Each  \\\n",
      "0   176558        USB-C Charging Cable                2      11.95   \n",
      "1      NaN                         NaN              NaN        NaN   \n",
      "2   176559  Bose SoundSport Headphones                1      99.99   \n",
      "3   176560                Google Phone                1        600   \n",
      "4   176560            Wired Headphones                1      11.99   \n",
      "\n",
      "       Order Date                      Purchase Address  \n",
      "0  04/19/19 08:46          917 1st St, Dallas, TX 75001  \n",
      "1             NaN                                   NaN  \n",
      "2  04/07/19 22:30     682 Chestnut St, Boston, MA 02215  \n",
      "3  04/12/19 14:38  669 Spruce St, Los Angeles, CA 90001  \n",
      "4  04/12/19 14:38  669 Spruce St, Los Angeles, CA 90001  \n"
     ]
    }
   ],
   "source": [
    "df = pd.read_csv('./Sales_Data/Sales_April_2019.csv')\n",
    "\n",
    "files = [file for file in os.listdir('./Sales_Data')]\n",
    "\n",
    "all_months_data = pd.DataFrame()\n",
    "\n",
    "for file in files:\n",
    "    #print(file)  #List all files in sales dir\n",
    "    df = pd.read_csv('./Sales_Data/'+file)\n",
    "    all_months_data = pd.concat([all_months_data,df])\n",
    "#print(all_months_data.head())\n",
    "\n",
    "\n",
    "## Saving merged data into another csv\n",
    "all_months_data.to_csv('all_data.csv', index=False)"
   ]
  },
  {
   "cell_type": "code",
   "execution_count": 2,
   "id": "326f4867",
   "metadata": {},
   "outputs": [
    {
     "data": {
      "text/html": [
       "<div>\n",
       "<style scoped>\n",
       "    .dataframe tbody tr th:only-of-type {\n",
       "        vertical-align: middle;\n",
       "    }\n",
       "\n",
       "    .dataframe tbody tr th {\n",
       "        vertical-align: top;\n",
       "    }\n",
       "\n",
       "    .dataframe thead th {\n",
       "        text-align: right;\n",
       "    }\n",
       "</style>\n",
       "<table border=\"1\" class=\"dataframe\">\n",
       "  <thead>\n",
       "    <tr style=\"text-align: right;\">\n",
       "      <th></th>\n",
       "      <th>Order ID</th>\n",
       "      <th>Product</th>\n",
       "      <th>Quantity Ordered</th>\n",
       "      <th>Price Each</th>\n",
       "      <th>Order Date</th>\n",
       "      <th>Purchase Address</th>\n",
       "    </tr>\n",
       "  </thead>\n",
       "  <tbody>\n",
       "    <tr>\n",
       "      <th>0</th>\n",
       "      <td>176558</td>\n",
       "      <td>USB-C Charging Cable</td>\n",
       "      <td>2</td>\n",
       "      <td>11.95</td>\n",
       "      <td>04/19/19 08:46</td>\n",
       "      <td>917 1st St, Dallas, TX 75001</td>\n",
       "    </tr>\n",
       "    <tr>\n",
       "      <th>1</th>\n",
       "      <td>NaN</td>\n",
       "      <td>NaN</td>\n",
       "      <td>NaN</td>\n",
       "      <td>NaN</td>\n",
       "      <td>NaN</td>\n",
       "      <td>NaN</td>\n",
       "    </tr>\n",
       "    <tr>\n",
       "      <th>2</th>\n",
       "      <td>176559</td>\n",
       "      <td>Bose SoundSport Headphones</td>\n",
       "      <td>1</td>\n",
       "      <td>99.99</td>\n",
       "      <td>04/07/19 22:30</td>\n",
       "      <td>682 Chestnut St, Boston, MA 02215</td>\n",
       "    </tr>\n",
       "    <tr>\n",
       "      <th>3</th>\n",
       "      <td>176560</td>\n",
       "      <td>Google Phone</td>\n",
       "      <td>1</td>\n",
       "      <td>600</td>\n",
       "      <td>04/12/19 14:38</td>\n",
       "      <td>669 Spruce St, Los Angeles, CA 90001</td>\n",
       "    </tr>\n",
       "    <tr>\n",
       "      <th>4</th>\n",
       "      <td>176560</td>\n",
       "      <td>Wired Headphones</td>\n",
       "      <td>1</td>\n",
       "      <td>11.99</td>\n",
       "      <td>04/12/19 14:38</td>\n",
       "      <td>669 Spruce St, Los Angeles, CA 90001</td>\n",
       "    </tr>\n",
       "  </tbody>\n",
       "</table>\n",
       "</div>"
      ],
      "text/plain": [
       "  Order ID                     Product Quantity Ordered Price Each  \\\n",
       "0   176558        USB-C Charging Cable                2      11.95   \n",
       "1      NaN                         NaN              NaN        NaN   \n",
       "2   176559  Bose SoundSport Headphones                1      99.99   \n",
       "3   176560                Google Phone                1        600   \n",
       "4   176560            Wired Headphones                1      11.99   \n",
       "\n",
       "       Order Date                      Purchase Address  \n",
       "0  04/19/19 08:46          917 1st St, Dallas, TX 75001  \n",
       "1             NaN                                   NaN  \n",
       "2  04/07/19 22:30     682 Chestnut St, Boston, MA 02215  \n",
       "3  04/12/19 14:38  669 Spruce St, Los Angeles, CA 90001  \n",
       "4  04/12/19 14:38  669 Spruce St, Los Angeles, CA 90001  "
      ]
     },
     "execution_count": 2,
     "metadata": {},
     "output_type": "execute_result"
    }
   ],
   "source": [
    "## Read in updated dataframe\n",
    "all_data = pd.read_csv('all_data.csv')\n",
    "all_data.head()"
   ]
  },
  {
   "cell_type": "code",
   "execution_count": 3,
   "id": "603900a8",
   "metadata": {},
   "outputs": [
    {
     "name": "stdout",
     "output_type": "stream",
     "text": [
      "Shape:  (186850, 6)\n",
      "Rows:  186850\n",
      "Columns:  6\n"
     ]
    }
   ],
   "source": [
    "print('Shape: ',all_data.shape)\n",
    "print('Rows: ',all_data.shape[0])\n",
    "print('Columns: ',all_data.shape[1])"
   ]
  },
  {
   "cell_type": "code",
   "execution_count": 4,
   "id": "cfad79e6",
   "metadata": {},
   "outputs": [
    {
     "name": "stdout",
     "output_type": "stream",
     "text": [
      "<class 'pandas.core.frame.DataFrame'>\n",
      "RangeIndex: 186850 entries, 0 to 186849\n",
      "Data columns (total 6 columns):\n",
      " #   Column            Non-Null Count   Dtype \n",
      "---  ------            --------------   ----- \n",
      " 0   Order ID          186305 non-null  object\n",
      " 1   Product           186305 non-null  object\n",
      " 2   Quantity Ordered  186305 non-null  object\n",
      " 3   Price Each        186305 non-null  object\n",
      " 4   Order Date        186305 non-null  object\n",
      " 5   Purchase Address  186305 non-null  object\n",
      "dtypes: object(6)\n",
      "memory usage: 8.6+ MB\n"
     ]
    }
   ],
   "source": [
    "# Check column data types and non-missing values\n",
    "all_data.info()"
   ]
  },
  {
   "cell_type": "markdown",
   "id": "3bd4ab41",
   "metadata": {},
   "source": [
    "## Data Cleaning: Analysing individual columns & fixing data types"
   ]
  },
  {
   "cell_type": "markdown",
   "id": "7a1e480d",
   "metadata": {},
   "source": [
    "### Missing values distribution"
   ]
  },
  {
   "cell_type": "code",
   "execution_count": 28,
   "id": "5c72a5b4",
   "metadata": {},
   "outputs": [
    {
     "data": {
      "text/plain": [
       "Order ID            0\n",
       "Product             0\n",
       "Quantity Ordered    0\n",
       "Price Each          0\n",
       "Order Date          0\n",
       "Purchase Address    0\n",
       "Month               0\n",
       "Sales               0\n",
       "City                0\n",
       "State               0\n",
       "dtype: int64"
      ]
     },
     "execution_count": 28,
     "metadata": {},
     "output_type": "execute_result"
    }
   ],
   "source": [
    "all_data.isnull().sum()"
   ]
  },
  {
   "cell_type": "markdown",
   "id": "40b3a775",
   "metadata": {},
   "source": [
    "##### Drop rows of NAN"
   ]
  },
  {
   "cell_type": "code",
   "execution_count": 4,
   "id": "a3328173",
   "metadata": {},
   "outputs": [],
   "source": [
    "all_data[all_data.isna().any(axis=1)]\n",
    "\n",
    "all_data.dropna(axis='rows', how='all', inplace=True)"
   ]
  },
  {
   "cell_type": "code",
   "execution_count": 8,
   "id": "a76bb1ed",
   "metadata": {},
   "outputs": [
    {
     "name": "stdout",
     "output_type": "stream",
     "text": [
      "<class 'pandas.core.frame.DataFrame'>\n",
      "Int64Index: 186305 entries, 0 to 186849\n",
      "Data columns (total 6 columns):\n",
      " #   Column            Non-Null Count   Dtype \n",
      "---  ------            --------------   ----- \n",
      " 0   Order ID          186305 non-null  object\n",
      " 1   Product           186305 non-null  object\n",
      " 2   Quantity Ordered  186305 non-null  object\n",
      " 3   Price Each        186305 non-null  object\n",
      " 4   Order Date        186305 non-null  object\n",
      " 5   Purchase Address  186305 non-null  object\n",
      "dtypes: object(6)\n",
      "memory usage: 9.9+ MB\n"
     ]
    }
   ],
   "source": [
    "all_data.info()"
   ]
  },
  {
   "cell_type": "markdown",
   "id": "3b1bcf39",
   "metadata": {},
   "source": [
    "##### Order ID"
   ]
  },
  {
   "cell_type": "code",
   "execution_count": 5,
   "id": "9cb75b24",
   "metadata": {},
   "outputs": [
    {
     "data": {
      "text/plain": [
       "array([6, 8], dtype=int64)"
      ]
     },
     "execution_count": 5,
     "metadata": {},
     "output_type": "execute_result"
    }
   ],
   "source": [
    "all_data['Order ID'].astype(str).str.len().unique()\n",
    "# Received length of 3 aswell,due to NaNs. So we checked and dropped them in earlier cell."
   ]
  },
  {
   "cell_type": "code",
   "execution_count": 29,
   "id": "456e09ed",
   "metadata": {},
   "outputs": [
    {
     "data": {
      "text/html": [
       "<div>\n",
       "<style scoped>\n",
       "    .dataframe tbody tr th:only-of-type {\n",
       "        vertical-align: middle;\n",
       "    }\n",
       "\n",
       "    .dataframe tbody tr th {\n",
       "        vertical-align: top;\n",
       "    }\n",
       "\n",
       "    .dataframe thead th {\n",
       "        text-align: right;\n",
       "    }\n",
       "</style>\n",
       "<table border=\"1\" class=\"dataframe\">\n",
       "  <thead>\n",
       "    <tr style=\"text-align: right;\">\n",
       "      <th></th>\n",
       "      <th>Order ID</th>\n",
       "      <th>Product</th>\n",
       "      <th>Quantity Ordered</th>\n",
       "      <th>Price Each</th>\n",
       "      <th>Order Date</th>\n",
       "      <th>Purchase Address</th>\n",
       "    </tr>\n",
       "  </thead>\n",
       "  <tbody>\n",
       "    <tr>\n",
       "      <th>519</th>\n",
       "      <td>Order ID</td>\n",
       "      <td>Product</td>\n",
       "      <td>Quantity Ordered</td>\n",
       "      <td>Price Each</td>\n",
       "      <td>Order Date</td>\n",
       "      <td>Purchase Address</td>\n",
       "    </tr>\n",
       "    <tr>\n",
       "      <th>1149</th>\n",
       "      <td>Order ID</td>\n",
       "      <td>Product</td>\n",
       "      <td>Quantity Ordered</td>\n",
       "      <td>Price Each</td>\n",
       "      <td>Order Date</td>\n",
       "      <td>Purchase Address</td>\n",
       "    </tr>\n",
       "    <tr>\n",
       "      <th>1155</th>\n",
       "      <td>Order ID</td>\n",
       "      <td>Product</td>\n",
       "      <td>Quantity Ordered</td>\n",
       "      <td>Price Each</td>\n",
       "      <td>Order Date</td>\n",
       "      <td>Purchase Address</td>\n",
       "    </tr>\n",
       "    <tr>\n",
       "      <th>2878</th>\n",
       "      <td>Order ID</td>\n",
       "      <td>Product</td>\n",
       "      <td>Quantity Ordered</td>\n",
       "      <td>Price Each</td>\n",
       "      <td>Order Date</td>\n",
       "      <td>Purchase Address</td>\n",
       "    </tr>\n",
       "    <tr>\n",
       "      <th>2893</th>\n",
       "      <td>Order ID</td>\n",
       "      <td>Product</td>\n",
       "      <td>Quantity Ordered</td>\n",
       "      <td>Price Each</td>\n",
       "      <td>Order Date</td>\n",
       "      <td>Purchase Address</td>\n",
       "    </tr>\n",
       "    <tr>\n",
       "      <th>...</th>\n",
       "      <td>...</td>\n",
       "      <td>...</td>\n",
       "      <td>...</td>\n",
       "      <td>...</td>\n",
       "      <td>...</td>\n",
       "      <td>...</td>\n",
       "    </tr>\n",
       "    <tr>\n",
       "      <th>185164</th>\n",
       "      <td>Order ID</td>\n",
       "      <td>Product</td>\n",
       "      <td>Quantity Ordered</td>\n",
       "      <td>Price Each</td>\n",
       "      <td>Order Date</td>\n",
       "      <td>Purchase Address</td>\n",
       "    </tr>\n",
       "    <tr>\n",
       "      <th>185551</th>\n",
       "      <td>Order ID</td>\n",
       "      <td>Product</td>\n",
       "      <td>Quantity Ordered</td>\n",
       "      <td>Price Each</td>\n",
       "      <td>Order Date</td>\n",
       "      <td>Purchase Address</td>\n",
       "    </tr>\n",
       "    <tr>\n",
       "      <th>186563</th>\n",
       "      <td>Order ID</td>\n",
       "      <td>Product</td>\n",
       "      <td>Quantity Ordered</td>\n",
       "      <td>Price Each</td>\n",
       "      <td>Order Date</td>\n",
       "      <td>Purchase Address</td>\n",
       "    </tr>\n",
       "    <tr>\n",
       "      <th>186632</th>\n",
       "      <td>Order ID</td>\n",
       "      <td>Product</td>\n",
       "      <td>Quantity Ordered</td>\n",
       "      <td>Price Each</td>\n",
       "      <td>Order Date</td>\n",
       "      <td>Purchase Address</td>\n",
       "    </tr>\n",
       "    <tr>\n",
       "      <th>186738</th>\n",
       "      <td>Order ID</td>\n",
       "      <td>Product</td>\n",
       "      <td>Quantity Ordered</td>\n",
       "      <td>Price Each</td>\n",
       "      <td>Order Date</td>\n",
       "      <td>Purchase Address</td>\n",
       "    </tr>\n",
       "  </tbody>\n",
       "</table>\n",
       "<p>355 rows × 6 columns</p>\n",
       "</div>"
      ],
      "text/plain": [
       "        Order ID  Product  Quantity Ordered  Price Each  Order Date  \\\n",
       "519     Order ID  Product  Quantity Ordered  Price Each  Order Date   \n",
       "1149    Order ID  Product  Quantity Ordered  Price Each  Order Date   \n",
       "1155    Order ID  Product  Quantity Ordered  Price Each  Order Date   \n",
       "2878    Order ID  Product  Quantity Ordered  Price Each  Order Date   \n",
       "2893    Order ID  Product  Quantity Ordered  Price Each  Order Date   \n",
       "...          ...      ...               ...         ...         ...   \n",
       "185164  Order ID  Product  Quantity Ordered  Price Each  Order Date   \n",
       "185551  Order ID  Product  Quantity Ordered  Price Each  Order Date   \n",
       "186563  Order ID  Product  Quantity Ordered  Price Each  Order Date   \n",
       "186632  Order ID  Product  Quantity Ordered  Price Each  Order Date   \n",
       "186738  Order ID  Product  Quantity Ordered  Price Each  Order Date   \n",
       "\n",
       "        Purchase Address  \n",
       "519     Purchase Address  \n",
       "1149    Purchase Address  \n",
       "1155    Purchase Address  \n",
       "2878    Purchase Address  \n",
       "2893    Purchase Address  \n",
       "...                  ...  \n",
       "185164  Purchase Address  \n",
       "185551  Purchase Address  \n",
       "186563  Purchase Address  \n",
       "186632  Purchase Address  \n",
       "186738  Purchase Address  \n",
       "\n",
       "[355 rows x 6 columns]"
      ]
     },
     "execution_count": 29,
     "metadata": {},
     "output_type": "execute_result"
    }
   ],
   "source": [
    "## Checking data with 8 lenth\n",
    "all_data.loc[all_data['Order ID'].astype(str).str.len() == 8]"
   ]
  },
  {
   "cell_type": "code",
   "execution_count": 6,
   "id": "f33da9c2",
   "metadata": {},
   "outputs": [
    {
     "data": {
      "text/plain": [
       "array([6], dtype=int64)"
      ]
     },
     "execution_count": 6,
     "metadata": {},
     "output_type": "execute_result"
    }
   ],
   "source": [
    "## Dropping based on above condition\n",
    "all_data.drop(all_data[all_data['Order ID'].astype(str).str.len() == 8].index, inplace=True)\n",
    "\n",
    "## check\n",
    "all_data['Order ID'].astype(str).str.len().unique()"
   ]
  },
  {
   "cell_type": "code",
   "execution_count": 10,
   "id": "eb38fe76",
   "metadata": {},
   "outputs": [
    {
     "data": {
      "text/plain": [
       "(185950, 6)"
      ]
     },
     "execution_count": 10,
     "metadata": {},
     "output_type": "execute_result"
    }
   ],
   "source": [
    "all_data.shape"
   ]
  },
  {
   "cell_type": "markdown",
   "id": "df251208",
   "metadata": {},
   "source": [
    "##### Product"
   ]
  },
  {
   "cell_type": "code",
   "execution_count": 17,
   "id": "ed0c4316",
   "metadata": {},
   "outputs": [
    {
     "data": {
      "text/plain": [
       "array(['USB-C Charging Cable', 'Bose SoundSport Headphones',\n",
       "       'Google Phone', 'Wired Headphones', 'Macbook Pro Laptop',\n",
       "       'Lightning Charging Cable', '27in 4K Gaming Monitor',\n",
       "       'AA Batteries (4-pack)', 'Apple Airpods Headphones',\n",
       "       'AAA Batteries (4-pack)', 'iPhone', 'Flatscreen TV',\n",
       "       '27in FHD Monitor', '20in Monitor', 'LG Dryer', 'ThinkPad Laptop',\n",
       "       'Vareebadd Phone', 'LG Washing Machine', '34in Ultrawide Monitor'],\n",
       "      dtype=object)"
      ]
     },
     "execution_count": 17,
     "metadata": {},
     "output_type": "execute_result"
    }
   ],
   "source": [
    "all_data['Product'].unique()"
   ]
  },
  {
   "cell_type": "code",
   "execution_count": 29,
   "id": "31f9ecd4",
   "metadata": {},
   "outputs": [
    {
     "data": {
      "text/plain": [
       "USB-C Charging Cable          21903\n",
       "Lightning Charging Cable      21658\n",
       "AAA Batteries (4-pack)        20641\n",
       "AA Batteries (4-pack)         20577\n",
       "Wired Headphones              18882\n",
       "Apple Airpods Headphones      15549\n",
       "Bose SoundSport Headphones    13325\n",
       "27in FHD Monitor               7507\n",
       "iPhone                         6842\n",
       "27in 4K Gaming Monitor         6230\n",
       "34in Ultrawide Monitor         6181\n",
       "Google Phone                   5525\n",
       "Flatscreen TV                  4800\n",
       "Macbook Pro Laptop             4724\n",
       "ThinkPad Laptop                4128\n",
       "20in Monitor                   4101\n",
       "Vareebadd Phone                2065\n",
       "LG Washing Machine              666\n",
       "LG Dryer                        646\n",
       "Name: Product, dtype: int64"
      ]
     },
     "execution_count": 29,
     "metadata": {},
     "output_type": "execute_result"
    }
   ],
   "source": [
    "all_data['Product'].value_counts()"
   ]
  },
  {
   "cell_type": "markdown",
   "id": "77f45f9c",
   "metadata": {},
   "source": [
    "### Correcting data types for each column"
   ]
  },
  {
   "cell_type": "code",
   "execution_count": 7,
   "id": "fd6d9fe5",
   "metadata": {},
   "outputs": [],
   "source": [
    "# Make int\n",
    "all_data['Quantity Ordered']= pd.to_numeric(all_data['Quantity Ordered'])\n",
    "\n",
    "# Make float\n",
    "all_data['Price Each'] = pd.to_numeric(all_data['Price Each'])\n",
    "\n",
    "# Make Datetime\n",
    "all_data['Order Date'] = pd.to_datetime(all_data['Order Date'])"
   ]
  },
  {
   "cell_type": "code",
   "execution_count": 8,
   "id": "9ff85673",
   "metadata": {},
   "outputs": [
    {
     "data": {
      "text/plain": [
       "Order ID                    object\n",
       "Product                     object\n",
       "Quantity Ordered             int64\n",
       "Price Each                 float64\n",
       "Order Date          datetime64[ns]\n",
       "Purchase Address            object\n",
       "dtype: object"
      ]
     },
     "execution_count": 8,
     "metadata": {},
     "output_type": "execute_result"
    }
   ],
   "source": [
    "all_data.dtypes"
   ]
  },
  {
   "cell_type": "markdown",
   "id": "991aceb0",
   "metadata": {},
   "source": [
    "### Adding new columns"
   ]
  },
  {
   "cell_type": "markdown",
   "id": "ddfe0cd5",
   "metadata": {},
   "source": [
    "#### Month "
   ]
  },
  {
   "cell_type": "code",
   "execution_count": 9,
   "id": "d751bce4",
   "metadata": {},
   "outputs": [],
   "source": [
    "all_data['Month'] = all_data['Order Date'].dt.month"
   ]
  },
  {
   "cell_type": "code",
   "execution_count": 14,
   "id": "442f6ac7",
   "metadata": {},
   "outputs": [
    {
     "data": {
      "text/html": [
       "<div>\n",
       "<style scoped>\n",
       "    .dataframe tbody tr th:only-of-type {\n",
       "        vertical-align: middle;\n",
       "    }\n",
       "\n",
       "    .dataframe tbody tr th {\n",
       "        vertical-align: top;\n",
       "    }\n",
       "\n",
       "    .dataframe thead th {\n",
       "        text-align: right;\n",
       "    }\n",
       "</style>\n",
       "<table border=\"1\" class=\"dataframe\">\n",
       "  <thead>\n",
       "    <tr style=\"text-align: right;\">\n",
       "      <th></th>\n",
       "      <th>Order ID</th>\n",
       "      <th>Product</th>\n",
       "      <th>Quantity Ordered</th>\n",
       "      <th>Price Each</th>\n",
       "      <th>Order Date</th>\n",
       "      <th>Purchase Address</th>\n",
       "      <th>Month</th>\n",
       "    </tr>\n",
       "  </thead>\n",
       "  <tbody>\n",
       "    <tr>\n",
       "      <th>0</th>\n",
       "      <td>176558</td>\n",
       "      <td>USB-C Charging Cable</td>\n",
       "      <td>2</td>\n",
       "      <td>11.95</td>\n",
       "      <td>2019-04-19 08:46:00</td>\n",
       "      <td>917 1st St, Dallas, TX 75001</td>\n",
       "      <td>4</td>\n",
       "    </tr>\n",
       "    <tr>\n",
       "      <th>2</th>\n",
       "      <td>176559</td>\n",
       "      <td>Bose SoundSport Headphones</td>\n",
       "      <td>1</td>\n",
       "      <td>99.99</td>\n",
       "      <td>2019-04-07 22:30:00</td>\n",
       "      <td>682 Chestnut St, Boston, MA 02215</td>\n",
       "      <td>4</td>\n",
       "    </tr>\n",
       "    <tr>\n",
       "      <th>3</th>\n",
       "      <td>176560</td>\n",
       "      <td>Google Phone</td>\n",
       "      <td>1</td>\n",
       "      <td>600.00</td>\n",
       "      <td>2019-04-12 14:38:00</td>\n",
       "      <td>669 Spruce St, Los Angeles, CA 90001</td>\n",
       "      <td>4</td>\n",
       "    </tr>\n",
       "    <tr>\n",
       "      <th>4</th>\n",
       "      <td>176560</td>\n",
       "      <td>Wired Headphones</td>\n",
       "      <td>1</td>\n",
       "      <td>11.99</td>\n",
       "      <td>2019-04-12 14:38:00</td>\n",
       "      <td>669 Spruce St, Los Angeles, CA 90001</td>\n",
       "      <td>4</td>\n",
       "    </tr>\n",
       "    <tr>\n",
       "      <th>5</th>\n",
       "      <td>176561</td>\n",
       "      <td>Wired Headphones</td>\n",
       "      <td>1</td>\n",
       "      <td>11.99</td>\n",
       "      <td>2019-04-30 09:27:00</td>\n",
       "      <td>333 8th St, Los Angeles, CA 90001</td>\n",
       "      <td>4</td>\n",
       "    </tr>\n",
       "  </tbody>\n",
       "</table>\n",
       "</div>"
      ],
      "text/plain": [
       "  Order ID                     Product  Quantity Ordered  Price Each  \\\n",
       "0   176558        USB-C Charging Cable                 2       11.95   \n",
       "2   176559  Bose SoundSport Headphones                 1       99.99   \n",
       "3   176560                Google Phone                 1      600.00   \n",
       "4   176560            Wired Headphones                 1       11.99   \n",
       "5   176561            Wired Headphones                 1       11.99   \n",
       "\n",
       "           Order Date                      Purchase Address  Month  \n",
       "0 2019-04-19 08:46:00          917 1st St, Dallas, TX 75001      4  \n",
       "2 2019-04-07 22:30:00     682 Chestnut St, Boston, MA 02215      4  \n",
       "3 2019-04-12 14:38:00  669 Spruce St, Los Angeles, CA 90001      4  \n",
       "4 2019-04-12 14:38:00  669 Spruce St, Los Angeles, CA 90001      4  \n",
       "5 2019-04-30 09:27:00     333 8th St, Los Angeles, CA 90001      4  "
      ]
     },
     "execution_count": 14,
     "metadata": {},
     "output_type": "execute_result"
    }
   ],
   "source": [
    "all_data.head()"
   ]
  },
  {
   "cell_type": "code",
   "execution_count": 15,
   "id": "55fe2392",
   "metadata": {},
   "outputs": [
    {
     "data": {
      "text/plain": [
       "Order ID                    object\n",
       "Product                     object\n",
       "Quantity Ordered             int64\n",
       "Price Each                 float64\n",
       "Order Date          datetime64[ns]\n",
       "Purchase Address            object\n",
       "Month                        int64\n",
       "dtype: object"
      ]
     },
     "execution_count": 15,
     "metadata": {},
     "output_type": "execute_result"
    }
   ],
   "source": [
    "# check data type of month rows\n",
    "all_data.dtypes"
   ]
  },
  {
   "cell_type": "markdown",
   "id": "c0ba34a8",
   "metadata": {},
   "source": [
    "#### Sales"
   ]
  },
  {
   "cell_type": "code",
   "execution_count": 10,
   "id": "0b40e376",
   "metadata": {},
   "outputs": [
    {
     "data": {
      "text/html": [
       "<div>\n",
       "<style scoped>\n",
       "    .dataframe tbody tr th:only-of-type {\n",
       "        vertical-align: middle;\n",
       "    }\n",
       "\n",
       "    .dataframe tbody tr th {\n",
       "        vertical-align: top;\n",
       "    }\n",
       "\n",
       "    .dataframe thead th {\n",
       "        text-align: right;\n",
       "    }\n",
       "</style>\n",
       "<table border=\"1\" class=\"dataframe\">\n",
       "  <thead>\n",
       "    <tr style=\"text-align: right;\">\n",
       "      <th></th>\n",
       "      <th>Order ID</th>\n",
       "      <th>Product</th>\n",
       "      <th>Quantity Ordered</th>\n",
       "      <th>Price Each</th>\n",
       "      <th>Order Date</th>\n",
       "      <th>Purchase Address</th>\n",
       "      <th>Month</th>\n",
       "      <th>Sales</th>\n",
       "    </tr>\n",
       "  </thead>\n",
       "  <tbody>\n",
       "    <tr>\n",
       "      <th>0</th>\n",
       "      <td>176558</td>\n",
       "      <td>USB-C Charging Cable</td>\n",
       "      <td>2</td>\n",
       "      <td>11.95</td>\n",
       "      <td>2019-04-19 08:46:00</td>\n",
       "      <td>917 1st St, Dallas, TX 75001</td>\n",
       "      <td>4</td>\n",
       "      <td>23.90</td>\n",
       "    </tr>\n",
       "    <tr>\n",
       "      <th>2</th>\n",
       "      <td>176559</td>\n",
       "      <td>Bose SoundSport Headphones</td>\n",
       "      <td>1</td>\n",
       "      <td>99.99</td>\n",
       "      <td>2019-04-07 22:30:00</td>\n",
       "      <td>682 Chestnut St, Boston, MA 02215</td>\n",
       "      <td>4</td>\n",
       "      <td>99.99</td>\n",
       "    </tr>\n",
       "    <tr>\n",
       "      <th>3</th>\n",
       "      <td>176560</td>\n",
       "      <td>Google Phone</td>\n",
       "      <td>1</td>\n",
       "      <td>600.00</td>\n",
       "      <td>2019-04-12 14:38:00</td>\n",
       "      <td>669 Spruce St, Los Angeles, CA 90001</td>\n",
       "      <td>4</td>\n",
       "      <td>600.00</td>\n",
       "    </tr>\n",
       "    <tr>\n",
       "      <th>4</th>\n",
       "      <td>176560</td>\n",
       "      <td>Wired Headphones</td>\n",
       "      <td>1</td>\n",
       "      <td>11.99</td>\n",
       "      <td>2019-04-12 14:38:00</td>\n",
       "      <td>669 Spruce St, Los Angeles, CA 90001</td>\n",
       "      <td>4</td>\n",
       "      <td>11.99</td>\n",
       "    </tr>\n",
       "    <tr>\n",
       "      <th>5</th>\n",
       "      <td>176561</td>\n",
       "      <td>Wired Headphones</td>\n",
       "      <td>1</td>\n",
       "      <td>11.99</td>\n",
       "      <td>2019-04-30 09:27:00</td>\n",
       "      <td>333 8th St, Los Angeles, CA 90001</td>\n",
       "      <td>4</td>\n",
       "      <td>11.99</td>\n",
       "    </tr>\n",
       "  </tbody>\n",
       "</table>\n",
       "</div>"
      ],
      "text/plain": [
       "  Order ID                     Product  Quantity Ordered  Price Each  \\\n",
       "0   176558        USB-C Charging Cable                 2       11.95   \n",
       "2   176559  Bose SoundSport Headphones                 1       99.99   \n",
       "3   176560                Google Phone                 1      600.00   \n",
       "4   176560            Wired Headphones                 1       11.99   \n",
       "5   176561            Wired Headphones                 1       11.99   \n",
       "\n",
       "           Order Date                      Purchase Address  Month   Sales  \n",
       "0 2019-04-19 08:46:00          917 1st St, Dallas, TX 75001      4   23.90  \n",
       "2 2019-04-07 22:30:00     682 Chestnut St, Boston, MA 02215      4   99.99  \n",
       "3 2019-04-12 14:38:00  669 Spruce St, Los Angeles, CA 90001      4  600.00  \n",
       "4 2019-04-12 14:38:00  669 Spruce St, Los Angeles, CA 90001      4   11.99  \n",
       "5 2019-04-30 09:27:00     333 8th St, Los Angeles, CA 90001      4   11.99  "
      ]
     },
     "execution_count": 10,
     "metadata": {},
     "output_type": "execute_result"
    }
   ],
   "source": [
    "all_data['Sales'] = all_data['Quantity Ordered']*all_data['Price Each']\n",
    "all_data.head()"
   ]
  },
  {
   "cell_type": "markdown",
   "id": "e52ded01",
   "metadata": {},
   "source": [
    "#### City & State\n"
   ]
  },
  {
   "cell_type": "code",
   "execution_count": 20,
   "id": "98f969a3",
   "metadata": {},
   "outputs": [
    {
     "name": "stdout",
     "output_type": "stream",
     "text": [
      "6\n",
      "[2]\n"
     ]
    }
   ],
   "source": [
    "new = all_data[\"Purchase Address\"].str.split(\",\", expand = True)\n",
    "\n",
    "## Making separate CITY column from split address \n",
    "all_data[\"City\"]= new[1].str.strip()\n",
    "\n",
    "## Making separate STATE column from split address \n",
    "all_data['State'] = new[2].str.split(' ',expand=True)[1]\n",
    "\n",
    "## Check for whitespaces\n",
    "print(all_data['City'].str.len()[0])\n",
    "print(all_data['State'].apply(len).unique())"
   ]
  },
  {
   "cell_type": "code",
   "execution_count": 19,
   "id": "598a00ee",
   "metadata": {},
   "outputs": [
    {
     "data": {
      "text/plain": [
       "array([2], dtype=int64)"
      ]
     },
     "execution_count": 19,
     "metadata": {},
     "output_type": "execute_result"
    }
   ],
   "source": [
    "all_data['State'].apply(len).unique()"
   ]
  },
  {
   "cell_type": "code",
   "execution_count": 15,
   "id": "12acfa0c",
   "metadata": {},
   "outputs": [
    {
     "data": {
      "text/plain": [
       "array(['Dallas', 'Boston', 'Los Angeles', 'San Francisco', 'Seattle',\n",
       "       'Atlanta', 'New York City', 'Portland', 'Austin'], dtype=object)"
      ]
     },
     "execution_count": 15,
     "metadata": {},
     "output_type": "execute_result"
    }
   ],
   "source": [
    "all_data['City'].unique()"
   ]
  },
  {
   "cell_type": "code",
   "execution_count": 16,
   "id": "e8778453",
   "metadata": {},
   "outputs": [
    {
     "data": {
      "text/plain": [
       "array(['TX', 'MA', 'CA', 'WA', 'GA', 'NY', 'OR', 'ME'], dtype=object)"
      ]
     },
     "execution_count": 16,
     "metadata": {},
     "output_type": "execute_result"
    }
   ],
   "source": [
    "all_data['State'].unique()"
   ]
  },
  {
   "cell_type": "markdown",
   "id": "59a397c0",
   "metadata": {},
   "source": [
    "##### Hour & Minute"
   ]
  },
  {
   "cell_type": "code",
   "execution_count": 9,
   "id": "4f9d3fe5",
   "metadata": {},
   "outputs": [],
   "source": [
    "all_data['Hour'] = pd.to_datetime(all_data['Order Date']).dt.hour\n",
    "all_data['Minute'] = pd.to_datetime(all_data['Order Date']).dt.minute"
   ]
  },
  {
   "cell_type": "markdown",
   "id": "80ba1be6",
   "metadata": {},
   "source": [
    "### Save Cleaned Data"
   ]
  },
  {
   "cell_type": "code",
   "execution_count": 46,
   "id": "48fa1fd7",
   "metadata": {},
   "outputs": [],
   "source": [
    "all_data.to_csv('modified.csv',index=False)"
   ]
  },
  {
   "cell_type": "code",
   "execution_count": 3,
   "id": "affab110",
   "metadata": {},
   "outputs": [
    {
     "data": {
      "text/html": [
       "<div>\n",
       "<style scoped>\n",
       "    .dataframe tbody tr th:only-of-type {\n",
       "        vertical-align: middle;\n",
       "    }\n",
       "\n",
       "    .dataframe tbody tr th {\n",
       "        vertical-align: top;\n",
       "    }\n",
       "\n",
       "    .dataframe thead th {\n",
       "        text-align: right;\n",
       "    }\n",
       "</style>\n",
       "<table border=\"1\" class=\"dataframe\">\n",
       "  <thead>\n",
       "    <tr style=\"text-align: right;\">\n",
       "      <th></th>\n",
       "      <th>Order ID</th>\n",
       "      <th>Product</th>\n",
       "      <th>Quantity Ordered</th>\n",
       "      <th>Price Each</th>\n",
       "      <th>Order Date</th>\n",
       "      <th>Purchase Address</th>\n",
       "      <th>Month</th>\n",
       "      <th>Sales</th>\n",
       "      <th>City</th>\n",
       "      <th>State</th>\n",
       "    </tr>\n",
       "  </thead>\n",
       "  <tbody>\n",
       "    <tr>\n",
       "      <th>0</th>\n",
       "      <td>176558</td>\n",
       "      <td>USB-C Charging Cable</td>\n",
       "      <td>2</td>\n",
       "      <td>11.95</td>\n",
       "      <td>2019-04-19 08:46:00</td>\n",
       "      <td>917 1st St, Dallas, TX 75001</td>\n",
       "      <td>4</td>\n",
       "      <td>23.90</td>\n",
       "      <td>Dallas</td>\n",
       "      <td>TX</td>\n",
       "    </tr>\n",
       "    <tr>\n",
       "      <th>1</th>\n",
       "      <td>176559</td>\n",
       "      <td>Bose SoundSport Headphones</td>\n",
       "      <td>1</td>\n",
       "      <td>99.99</td>\n",
       "      <td>2019-04-07 22:30:00</td>\n",
       "      <td>682 Chestnut St, Boston, MA 02215</td>\n",
       "      <td>4</td>\n",
       "      <td>99.99</td>\n",
       "      <td>Boston</td>\n",
       "      <td>MA</td>\n",
       "    </tr>\n",
       "    <tr>\n",
       "      <th>2</th>\n",
       "      <td>176560</td>\n",
       "      <td>Google Phone</td>\n",
       "      <td>1</td>\n",
       "      <td>600.00</td>\n",
       "      <td>2019-04-12 14:38:00</td>\n",
       "      <td>669 Spruce St, Los Angeles, CA 90001</td>\n",
       "      <td>4</td>\n",
       "      <td>600.00</td>\n",
       "      <td>Los Angeles</td>\n",
       "      <td>CA</td>\n",
       "    </tr>\n",
       "    <tr>\n",
       "      <th>3</th>\n",
       "      <td>176560</td>\n",
       "      <td>Wired Headphones</td>\n",
       "      <td>1</td>\n",
       "      <td>11.99</td>\n",
       "      <td>2019-04-12 14:38:00</td>\n",
       "      <td>669 Spruce St, Los Angeles, CA 90001</td>\n",
       "      <td>4</td>\n",
       "      <td>11.99</td>\n",
       "      <td>Los Angeles</td>\n",
       "      <td>CA</td>\n",
       "    </tr>\n",
       "    <tr>\n",
       "      <th>4</th>\n",
       "      <td>176561</td>\n",
       "      <td>Wired Headphones</td>\n",
       "      <td>1</td>\n",
       "      <td>11.99</td>\n",
       "      <td>2019-04-30 09:27:00</td>\n",
       "      <td>333 8th St, Los Angeles, CA 90001</td>\n",
       "      <td>4</td>\n",
       "      <td>11.99</td>\n",
       "      <td>Los Angeles</td>\n",
       "      <td>CA</td>\n",
       "    </tr>\n",
       "  </tbody>\n",
       "</table>\n",
       "</div>"
      ],
      "text/plain": [
       "   Order ID                     Product  Quantity Ordered  Price Each  \\\n",
       "0    176558        USB-C Charging Cable                 2       11.95   \n",
       "1    176559  Bose SoundSport Headphones                 1       99.99   \n",
       "2    176560                Google Phone                 1      600.00   \n",
       "3    176560            Wired Headphones                 1       11.99   \n",
       "4    176561            Wired Headphones                 1       11.99   \n",
       "\n",
       "            Order Date                      Purchase Address  Month   Sales  \\\n",
       "0  2019-04-19 08:46:00          917 1st St, Dallas, TX 75001      4   23.90   \n",
       "1  2019-04-07 22:30:00     682 Chestnut St, Boston, MA 02215      4   99.99   \n",
       "2  2019-04-12 14:38:00  669 Spruce St, Los Angeles, CA 90001      4  600.00   \n",
       "3  2019-04-12 14:38:00  669 Spruce St, Los Angeles, CA 90001      4   11.99   \n",
       "4  2019-04-30 09:27:00     333 8th St, Los Angeles, CA 90001      4   11.99   \n",
       "\n",
       "          City State  \n",
       "0       Dallas    TX  \n",
       "1       Boston    MA  \n",
       "2  Los Angeles    CA  \n",
       "3  Los Angeles    CA  \n",
       "4  Los Angeles    CA  "
      ]
     },
     "execution_count": 3,
     "metadata": {},
     "output_type": "execute_result"
    }
   ],
   "source": [
    "all_data=pd.read_csv('modified.csv')\n",
    "all_data.head()"
   ]
  },
  {
   "cell_type": "markdown",
   "id": "d54d3439",
   "metadata": {},
   "source": [
    "# Data Exploration!"
   ]
  },
  {
   "cell_type": "markdown",
   "id": "1efae358",
   "metadata": {},
   "source": [
    "### Fetch best month for sales"
   ]
  },
  {
   "cell_type": "code",
   "execution_count": 77,
   "id": "e589c2ad",
   "metadata": {},
   "outputs": [
    {
     "data": {
      "text/html": [
       "<div>\n",
       "<style scoped>\n",
       "    .dataframe tbody tr th:only-of-type {\n",
       "        vertical-align: middle;\n",
       "    }\n",
       "\n",
       "    .dataframe tbody tr th {\n",
       "        vertical-align: top;\n",
       "    }\n",
       "\n",
       "    .dataframe thead th {\n",
       "        text-align: right;\n",
       "    }\n",
       "</style>\n",
       "<table border=\"1\" class=\"dataframe\">\n",
       "  <thead>\n",
       "    <tr style=\"text-align: right;\">\n",
       "      <th></th>\n",
       "      <th>Sales</th>\n",
       "      <th>Quantity Ordered</th>\n",
       "    </tr>\n",
       "    <tr>\n",
       "      <th>Month</th>\n",
       "      <th></th>\n",
       "      <th></th>\n",
       "    </tr>\n",
       "  </thead>\n",
       "  <tbody>\n",
       "    <tr>\n",
       "      <th>1</th>\n",
       "      <td>1822256.73</td>\n",
       "      <td>10903</td>\n",
       "    </tr>\n",
       "    <tr>\n",
       "      <th>9</th>\n",
       "      <td>2097560.13</td>\n",
       "      <td>13109</td>\n",
       "    </tr>\n",
       "    <tr>\n",
       "      <th>2</th>\n",
       "      <td>2202022.42</td>\n",
       "      <td>13449</td>\n",
       "    </tr>\n",
       "    <tr>\n",
       "      <th>8</th>\n",
       "      <td>2244467.88</td>\n",
       "      <td>13448</td>\n",
       "    </tr>\n",
       "    <tr>\n",
       "      <th>6</th>\n",
       "      <td>2577802.26</td>\n",
       "      <td>15253</td>\n",
       "    </tr>\n",
       "    <tr>\n",
       "      <th>7</th>\n",
       "      <td>2647775.76</td>\n",
       "      <td>16072</td>\n",
       "    </tr>\n",
       "    <tr>\n",
       "      <th>3</th>\n",
       "      <td>2807100.38</td>\n",
       "      <td>17005</td>\n",
       "    </tr>\n",
       "    <tr>\n",
       "      <th>5</th>\n",
       "      <td>3152606.75</td>\n",
       "      <td>18667</td>\n",
       "    </tr>\n",
       "    <tr>\n",
       "      <th>11</th>\n",
       "      <td>3199603.20</td>\n",
       "      <td>19798</td>\n",
       "    </tr>\n",
       "    <tr>\n",
       "      <th>4</th>\n",
       "      <td>3390670.24</td>\n",
       "      <td>20558</td>\n",
       "    </tr>\n",
       "    <tr>\n",
       "      <th>10</th>\n",
       "      <td>3736726.88</td>\n",
       "      <td>22703</td>\n",
       "    </tr>\n",
       "    <tr>\n",
       "      <th>12</th>\n",
       "      <td>4613443.34</td>\n",
       "      <td>28114</td>\n",
       "    </tr>\n",
       "  </tbody>\n",
       "</table>\n",
       "</div>"
      ],
      "text/plain": [
       "            Sales  Quantity Ordered\n",
       "Month                              \n",
       "1      1822256.73             10903\n",
       "9      2097560.13             13109\n",
       "2      2202022.42             13449\n",
       "8      2244467.88             13448\n",
       "6      2577802.26             15253\n",
       "7      2647775.76             16072\n",
       "3      2807100.38             17005\n",
       "5      3152606.75             18667\n",
       "11     3199603.20             19798\n",
       "4      3390670.24             20558\n",
       "10     3736726.88             22703\n",
       "12     4613443.34             28114"
      ]
     },
     "execution_count": 77,
     "metadata": {},
     "output_type": "execute_result"
    }
   ],
   "source": [
    "#all_data.groupby(all_data['Month'])['Sales'].sum().sort_values(ascending=False)\n",
    "all_data.groupby('Month')[['Sales','Quantity Ordered']].sum().sort_values(by='Sales')"
   ]
  },
  {
   "cell_type": "markdown",
   "id": "49d8f057",
   "metadata": {},
   "source": [
    "We had highest sales in december i.e 4613443.34 USD while January had the worst sales out of all i.e 1822256.73 USD. "
   ]
  },
  {
   "cell_type": "code",
   "execution_count": 18,
   "id": "df9cdfe6",
   "metadata": {},
   "outputs": [
    {
     "data": {
      "image/png": "[encoded data removed]",
      "text/plain": [
       "<Figure size 432x288 with 1 Axes>"
      ]
     },
     "metadata": {
      "needs_background": "light"
     },
     "output_type": "display_data"
    }
   ],
   "source": [
    "# Visualizing Sales over the year\n",
    "\n",
    "months = range(1,13)\n",
    "results = all_data.groupby('Month')['Sales'].sum()\n",
    "plt.bar(months, results)\n",
    "plt.xticks(months)\n",
    "plt.xlabel('Months')\n",
    "plt.ylabel('Sales in USD ($)')\n",
    "plt.show()"
   ]
  },
  {
   "cell_type": "markdown",
   "id": "d4e9b6f0",
   "metadata": {},
   "source": [
    "Why certain months performed better that other? Maybe due to some Campaigns, NLs, etc\n",
    "Or maybe we spend more money on advertising? or changed the Ad strategy\n",
    "In december, maybe due to Christmas & Halloween & new year, people are buying gifts"
   ]
  },
  {
   "cell_type": "markdown",
   "id": "e340461c",
   "metadata": {},
   "source": [
    "### Sales by City & state"
   ]
  },
  {
   "cell_type": "code",
   "execution_count": 36,
   "id": "b18a742b",
   "metadata": {},
   "outputs": [
    {
     "data": {
      "text/plain": [
       "City\n",
       "Austin           1819581.75\n",
       "Portland         2320490.61\n",
       "Seattle          2747755.48\n",
       "Dallas           2767975.40\n",
       "Atlanta          2795498.58\n",
       "Boston           3661642.01\n",
       "New York City    4664317.43\n",
       "Los Angeles      5452570.80\n",
       "San Francisco    8262203.91\n",
       "Name: Sales, dtype: float64"
      ]
     },
     "execution_count": 36,
     "metadata": {},
     "output_type": "execute_result"
    }
   ],
   "source": [
    "all_data.groupby('City')['Sales'].sum().sort_values()"
   ]
  },
  {
   "cell_type": "markdown",
   "id": "538b1685",
   "metadata": {},
   "source": [
    "It seems **San Francisco** had highest no of sales while **Austin** performed worst out of all."
   ]
  },
  {
   "cell_type": "code",
   "execution_count": 45,
   "id": "20f6dc26",
   "metadata": {},
   "outputs": [
    {
     "data": {
      "text/html": [
       "<div>\n",
       "<style scoped>\n",
       "    .dataframe tbody tr th:only-of-type {\n",
       "        vertical-align: middle;\n",
       "    }\n",
       "\n",
       "    .dataframe tbody tr th {\n",
       "        vertical-align: top;\n",
       "    }\n",
       "\n",
       "    .dataframe thead th {\n",
       "        text-align: right;\n",
       "    }\n",
       "</style>\n",
       "<table border=\"1\" class=\"dataframe\">\n",
       "  <thead>\n",
       "    <tr style=\"text-align: right;\">\n",
       "      <th></th>\n",
       "      <th></th>\n",
       "      <th>Quantity Ordered</th>\n",
       "      <th>Sales</th>\n",
       "    </tr>\n",
       "    <tr>\n",
       "      <th>State</th>\n",
       "      <th>City</th>\n",
       "      <th></th>\n",
       "      <th></th>\n",
       "    </tr>\n",
       "  </thead>\n",
       "  <tbody>\n",
       "    <tr>\n",
       "      <th>ME</th>\n",
       "      <th>Portland</th>\n",
       "      <td>2750</td>\n",
       "      <td>449758.27</td>\n",
       "    </tr>\n",
       "    <tr>\n",
       "      <th>TX</th>\n",
       "      <th>Austin</th>\n",
       "      <td>11153</td>\n",
       "      <td>1819581.75</td>\n",
       "    </tr>\n",
       "    <tr>\n",
       "      <th>OR</th>\n",
       "      <th>Portland</th>\n",
       "      <td>11303</td>\n",
       "      <td>1870732.34</td>\n",
       "    </tr>\n",
       "    <tr>\n",
       "      <th>WA</th>\n",
       "      <th>Seattle</th>\n",
       "      <td>16553</td>\n",
       "      <td>2747755.48</td>\n",
       "    </tr>\n",
       "    <tr>\n",
       "      <th>TX</th>\n",
       "      <th>Dallas</th>\n",
       "      <td>16730</td>\n",
       "      <td>2767975.40</td>\n",
       "    </tr>\n",
       "    <tr>\n",
       "      <th>GA</th>\n",
       "      <th>Atlanta</th>\n",
       "      <td>16602</td>\n",
       "      <td>2795498.58</td>\n",
       "    </tr>\n",
       "    <tr>\n",
       "      <th>MA</th>\n",
       "      <th>Boston</th>\n",
       "      <td>22528</td>\n",
       "      <td>3661642.01</td>\n",
       "    </tr>\n",
       "    <tr>\n",
       "      <th>NY</th>\n",
       "      <th>New York City</th>\n",
       "      <td>27932</td>\n",
       "      <td>4664317.43</td>\n",
       "    </tr>\n",
       "    <tr>\n",
       "      <th rowspan=\"2\" valign=\"top\">CA</th>\n",
       "      <th>Los Angeles</th>\n",
       "      <td>33289</td>\n",
       "      <td>5452570.80</td>\n",
       "    </tr>\n",
       "    <tr>\n",
       "      <th>San Francisco</th>\n",
       "      <td>50239</td>\n",
       "      <td>8262203.91</td>\n",
       "    </tr>\n",
       "  </tbody>\n",
       "</table>\n",
       "</div>"
      ],
      "text/plain": [
       "                     Quantity Ordered       Sales\n",
       "State City                                       \n",
       "ME    Portland                   2750   449758.27\n",
       "TX    Austin                    11153  1819581.75\n",
       "OR    Portland                  11303  1870732.34\n",
       "WA    Seattle                   16553  2747755.48\n",
       "TX    Dallas                    16730  2767975.40\n",
       "GA    Atlanta                   16602  2795498.58\n",
       "MA    Boston                    22528  3661642.01\n",
       "NY    New York City             27932  4664317.43\n",
       "CA    Los Angeles               33289  5452570.80\n",
       "      San Francisco             50239  8262203.91"
      ]
     },
     "execution_count": 45,
     "metadata": {},
     "output_type": "execute_result"
    }
   ],
   "source": [
    "cols=['Quantity Ordered','Sales']\n",
    "all_data.groupby(['State','City'])[cols].sum().sort_values(by='Sales')"
   ]
  },
  {
   "cell_type": "markdown",
   "id": "10ef7447",
   "metadata": {},
   "source": [
    "*  As we can see, that Portland which was ranking the second worst performer earlier has changed in ranking now. **Portland, ME(Maine)** seems to have the worst sales out of all. We should investigate further as to why *Maine* performed so poorly.\n",
    "\n",
    "*  Austin was ranked with 2nd worst sales while Dallas had fairly good sales. Need to check why one city performed better than the other in same state\n",
    "\n",
    "*  Also, 2 of our *top performing cities* belong to the same state i.e **CA(California).**"
   ]
  },
  {
   "cell_type": "code",
   "execution_count": 6,
   "id": "32267a13",
   "metadata": {},
   "outputs": [
    {
     "data": {
      "image/png": "[encoded data removed]",
      "text/plain": [
       "<Figure size 432x288 with 1 Axes>"
      ]
     },
     "metadata": {
      "needs_background": "light"
     },
     "output_type": "display_data"
    }
   ],
   "source": [
    "# Visualizing Sales by City & state\n",
    "\n",
    "all_data.groupby(['City', 'State'])['Sales'].sum().sort_values().plot.bar(xlabel='(City,State)', ylabel='Sales')\n",
    "plt.show()"
   ]
  },
  {
   "cell_type": "markdown",
   "id": "75254c97",
   "metadata": {},
   "source": [
    "### Best time to display advertisements to maximize likelihood of customer's buying product"
   ]
  },
  {
   "cell_type": "markdown",
   "id": "6b499343",
   "metadata": {},
   "source": [
    "#### For all cities"
   ]
  },
  {
   "cell_type": "code",
   "execution_count": 10,
   "id": "44fc8b2c",
   "metadata": {},
   "outputs": [
    {
     "data": {
      "text/html": [
       "<div>\n",
       "<style scoped>\n",
       "    .dataframe tbody tr th:only-of-type {\n",
       "        vertical-align: middle;\n",
       "    }\n",
       "\n",
       "    .dataframe tbody tr th {\n",
       "        vertical-align: top;\n",
       "    }\n",
       "\n",
       "    .dataframe thead th {\n",
       "        text-align: right;\n",
       "    }\n",
       "</style>\n",
       "<table border=\"1\" class=\"dataframe\">\n",
       "  <thead>\n",
       "    <tr style=\"text-align: right;\">\n",
       "      <th></th>\n",
       "      <th>Order ID</th>\n",
       "      <th>Product</th>\n",
       "      <th>Quantity Ordered</th>\n",
       "      <th>Price Each</th>\n",
       "      <th>Order Date</th>\n",
       "      <th>Purchase Address</th>\n",
       "      <th>Month</th>\n",
       "      <th>Sales</th>\n",
       "      <th>City</th>\n",
       "      <th>State</th>\n",
       "      <th>Hour</th>\n",
       "      <th>Minute</th>\n",
       "    </tr>\n",
       "  </thead>\n",
       "  <tbody>\n",
       "    <tr>\n",
       "      <th>0</th>\n",
       "      <td>176558</td>\n",
       "      <td>USB-C Charging Cable</td>\n",
       "      <td>2</td>\n",
       "      <td>11.95</td>\n",
       "      <td>2019-04-19 08:46:00</td>\n",
       "      <td>917 1st St, Dallas, TX 75001</td>\n",
       "      <td>4</td>\n",
       "      <td>23.90</td>\n",
       "      <td>Dallas</td>\n",
       "      <td>TX</td>\n",
       "      <td>8</td>\n",
       "      <td>46</td>\n",
       "    </tr>\n",
       "    <tr>\n",
       "      <th>1</th>\n",
       "      <td>176559</td>\n",
       "      <td>Bose SoundSport Headphones</td>\n",
       "      <td>1</td>\n",
       "      <td>99.99</td>\n",
       "      <td>2019-04-07 22:30:00</td>\n",
       "      <td>682 Chestnut St, Boston, MA 02215</td>\n",
       "      <td>4</td>\n",
       "      <td>99.99</td>\n",
       "      <td>Boston</td>\n",
       "      <td>MA</td>\n",
       "      <td>22</td>\n",
       "      <td>30</td>\n",
       "    </tr>\n",
       "    <tr>\n",
       "      <th>2</th>\n",
       "      <td>176560</td>\n",
       "      <td>Google Phone</td>\n",
       "      <td>1</td>\n",
       "      <td>600.00</td>\n",
       "      <td>2019-04-12 14:38:00</td>\n",
       "      <td>669 Spruce St, Los Angeles, CA 90001</td>\n",
       "      <td>4</td>\n",
       "      <td>600.00</td>\n",
       "      <td>Los Angeles</td>\n",
       "      <td>CA</td>\n",
       "      <td>14</td>\n",
       "      <td>38</td>\n",
       "    </tr>\n",
       "    <tr>\n",
       "      <th>3</th>\n",
       "      <td>176560</td>\n",
       "      <td>Wired Headphones</td>\n",
       "      <td>1</td>\n",
       "      <td>11.99</td>\n",
       "      <td>2019-04-12 14:38:00</td>\n",
       "      <td>669 Spruce St, Los Angeles, CA 90001</td>\n",
       "      <td>4</td>\n",
       "      <td>11.99</td>\n",
       "      <td>Los Angeles</td>\n",
       "      <td>CA</td>\n",
       "      <td>14</td>\n",
       "      <td>38</td>\n",
       "    </tr>\n",
       "    <tr>\n",
       "      <th>4</th>\n",
       "      <td>176561</td>\n",
       "      <td>Wired Headphones</td>\n",
       "      <td>1</td>\n",
       "      <td>11.99</td>\n",
       "      <td>2019-04-30 09:27:00</td>\n",
       "      <td>333 8th St, Los Angeles, CA 90001</td>\n",
       "      <td>4</td>\n",
       "      <td>11.99</td>\n",
       "      <td>Los Angeles</td>\n",
       "      <td>CA</td>\n",
       "      <td>9</td>\n",
       "      <td>27</td>\n",
       "    </tr>\n",
       "  </tbody>\n",
       "</table>\n",
       "</div>"
      ],
      "text/plain": [
       "   Order ID                     Product  Quantity Ordered  Price Each  \\\n",
       "0    176558        USB-C Charging Cable                 2       11.95   \n",
       "1    176559  Bose SoundSport Headphones                 1       99.99   \n",
       "2    176560                Google Phone                 1      600.00   \n",
       "3    176560            Wired Headphones                 1       11.99   \n",
       "4    176561            Wired Headphones                 1       11.99   \n",
       "\n",
       "            Order Date                      Purchase Address  Month   Sales  \\\n",
       "0  2019-04-19 08:46:00          917 1st St, Dallas, TX 75001      4   23.90   \n",
       "1  2019-04-07 22:30:00     682 Chestnut St, Boston, MA 02215      4   99.99   \n",
       "2  2019-04-12 14:38:00  669 Spruce St, Los Angeles, CA 90001      4  600.00   \n",
       "3  2019-04-12 14:38:00  669 Spruce St, Los Angeles, CA 90001      4   11.99   \n",
       "4  2019-04-30 09:27:00     333 8th St, Los Angeles, CA 90001      4   11.99   \n",
       "\n",
       "          City State  Hour  Minute  \n",
       "0       Dallas    TX     8      46  \n",
       "1       Boston    MA    22      30  \n",
       "2  Los Angeles    CA    14      38  \n",
       "3  Los Angeles    CA    14      38  \n",
       "4  Los Angeles    CA     9      27  "
      ]
     },
     "execution_count": 10,
     "metadata": {},
     "output_type": "execute_result"
    }
   ],
   "source": [
    "all_data.head()"
   ]
  },
  {
   "cell_type": "code",
   "execution_count": 27,
   "id": "db2aa7a6",
   "metadata": {},
   "outputs": [
    {
     "data": {
      "image/png": "[encoded data removed]",
      "text/plain": [
       "<Figure size 432x288 with 1 Axes>"
      ]
     },
     "metadata": {
      "needs_background": "light"
     },
     "output_type": "display_data"
    }
   ],
   "source": [
    "# Plotting No of Sales by Hour\n",
    "\n",
    "hours = [hour for hour, df in all_data.groupby(['Hour'])]   #doing this ensures x & y will have same order(order of groupby result) and inconsistencies wont be there\n",
    "\n",
    "all_data.groupby('Hour')['Sales'].count().plot.line()\n",
    "plt.xticks(hours)\n",
    "plt.ylabel('Number of Orders')\n",
    "plt.grid()\n",
    "plt.show()"
   ]
  },
  {
   "cell_type": "markdown",
   "id": "3d722125",
   "metadata": {},
   "source": [
    "* We should show ads slightly *before 11am(11) or 7PM(19)*, afterwhich we can see a rise in the no of orders at our store"
   ]
  },
  {
   "cell_type": "markdown",
   "id": "aca6c231",
   "metadata": {},
   "source": [
    "#### Specific cities"
   ]
  },
  {
   "cell_type": "code",
   "execution_count": 33,
   "id": "4fcd0a10",
   "metadata": {},
   "outputs": [
    {
     "data": {
      "image/png": "[encoded data removed]",
      "text/plain": [
       "<Figure size 432x288 with 1 Axes>"
      ]
     },
     "metadata": {
      "needs_background": "light"
     },
     "output_type": "display_data"
    },
    {
     "data": {
      "image/png": "[encoded data removed]",
      "text/plain": [
       "<Figure size 432x288 with 1 Axes>"
      ]
     },
     "metadata": {
      "needs_background": "light"
     },
     "output_type": "display_data"
    },
    {
     "data": {
      "image/png": "[encoded data removed]",
      "text/plain": [
       "<Figure size 432x288 with 1 Axes>"
      ]
     },
     "metadata": {
      "needs_background": "light"
     },
     "output_type": "display_data"
    },
    {
     "data": {
      "image/png": "[encoded data removed]",
      "text/plain": [
       "<Figure size 432x288 with 1 Axes>"
      ]
     },
     "metadata": {
      "needs_background": "light"
     },
     "output_type": "display_data"
    },
    {
     "data": {
      "image/png": "[encoded data removed]",
      "text/plain": [
       "<Figure size 432x288 with 1 Axes>"
      ]
     },
     "metadata": {
      "needs_background": "light"
     },
     "output_type": "display_data"
    },
    {
     "data": {
      "image/png": "[encoded data removed]",
      "text/plain": [
       "<Figure size 432x288 with 1 Axes>"
      ]
     },
     "metadata": {
      "needs_background": "light"
     },
     "output_type": "display_data"
    },
    {
     "data": {
      "image/png": "[encoded data removed]",
      "text/plain": [
       "<Figure size 432x288 with 1 Axes>"
      ]
     },
     "metadata": {
      "needs_background": "light"
     },
     "output_type": "display_data"
    },
    {
     "data": {
      "image/png": "[encoded data removed]",
      "text/plain": [
       "<Figure size 432x288 with 1 Axes>"
      ]
     },
     "metadata": {
      "needs_background": "light"
     },
     "output_type": "display_data"
    },
    {
     "data": {
      "image/png": "[encoded data removed]",
      "text/plain": [
       "<Figure size 432x288 with 1 Axes>"
      ]
     },
     "metadata": {
      "needs_background": "light"
     },
     "output_type": "display_data"
    }
   ],
   "source": [
    "cities= all_data['City'].unique()\n",
    "\n",
    "for city in cities:\n",
    "    hours = [hour for hour, df in all_data.groupby(['Hour'])]   #doing this ensures x & y will have same order(order of groupby result) and inconsistencies wont be there\n",
    "    res = all_data.loc[(all_data['City']==city)]\n",
    "    res.groupby('Hour')['Sales'].count().plot.line()\n",
    "    plt.xticks(hours)\n",
    "    plt.ylabel('Number of Orders')\n",
    "    plt.xlabel('Hours - '+city)\n",
    "    plt.grid()\n",
    "    plt.show()\n",
    "\n",
    "\n"
   ]
  },
  {
   "cell_type": "code",
   "execution_count": 35,
   "id": "38d58370",
   "metadata": {},
   "outputs": [
    {
     "data": {
      "image/png": "[encoded data removed]",
      "text/plain": [
       "<Figure size 432x288 with 2 Axes>"
      ]
     },
     "metadata": {
      "needs_background": "light"
     },
     "output_type": "display_data"
    }
   ],
   "source": [
    "hours = [hour for hour, df in all_data.groupby(['Hour'])]\n",
    "res = all_data.loc[(all_data['City']=='Los Angeles')]\n",
    "fig, axs = plt.subplots(2)\n",
    "fig.suptitle('Vertically stacked subplots')\n",
    "axs[0].plot(hours,res.groupby('Hour')['Sales'].count())\n",
    "axs[0].set_xticks(hours) \n",
    "axs[0].grid()\n",
    "plt.show()\n",
    "#axs[1].plot(x, -y)\n"
   ]
  },
  {
   "cell_type": "markdown",
   "id": "d84ee4a0",
   "metadata": {},
   "source": [
    "#### Products that are most often sold together"
   ]
  },
  {
   "cell_type": "code",
   "execution_count": 24,
   "id": "2482a8e0",
   "metadata": {},
   "outputs": [
    {
     "name": "stderr",
     "output_type": "stream",
     "text": [
      "C:\\Users\\user\\AppData\\Local\\Temp/ipykernel_7896/341281931.py:2: SettingWithCopyWarning: \n",
      "A value is trying to be set on a copy of a slice from a DataFrame.\n",
      "Try using .loc[row_indexer,col_indexer] = value instead\n",
      "\n",
      "See the caveats in the documentation: https://pandas.pydata.org/pandas-docs/stable/user_guide/indexing.html#returning-a-view-versus-a-copy\n",
      "  df['Grouped'] = df.groupby('Order ID')['Product'].transform(lambda x : ','.join(x))\n"
     ]
    },
    {
     "data": {
      "text/html": [
       "<div>\n",
       "<style scoped>\n",
       "    .dataframe tbody tr th:only-of-type {\n",
       "        vertical-align: middle;\n",
       "    }\n",
       "\n",
       "    .dataframe tbody tr th {\n",
       "        vertical-align: top;\n",
       "    }\n",
       "\n",
       "    .dataframe thead th {\n",
       "        text-align: right;\n",
       "    }\n",
       "</style>\n",
       "<table border=\"1\" class=\"dataframe\">\n",
       "  <thead>\n",
       "    <tr style=\"text-align: right;\">\n",
       "      <th></th>\n",
       "      <th>Order ID</th>\n",
       "      <th>Grouped</th>\n",
       "    </tr>\n",
       "  </thead>\n",
       "  <tbody>\n",
       "    <tr>\n",
       "      <th>2</th>\n",
       "      <td>176560</td>\n",
       "      <td>Google Phone,Wired Headphones</td>\n",
       "    </tr>\n",
       "    <tr>\n",
       "      <th>17</th>\n",
       "      <td>176574</td>\n",
       "      <td>Google Phone,USB-C Charging Cable</td>\n",
       "    </tr>\n",
       "    <tr>\n",
       "      <th>29</th>\n",
       "      <td>176585</td>\n",
       "      <td>Bose SoundSport Headphones,Bose SoundSport Hea...</td>\n",
       "    </tr>\n",
       "    <tr>\n",
       "      <th>31</th>\n",
       "      <td>176586</td>\n",
       "      <td>AAA Batteries (4-pack),Google Phone</td>\n",
       "    </tr>\n",
       "    <tr>\n",
       "      <th>118</th>\n",
       "      <td>176672</td>\n",
       "      <td>Lightning Charging Cable,USB-C Charging Cable</td>\n",
       "    </tr>\n",
       "  </tbody>\n",
       "</table>\n",
       "</div>"
      ],
      "text/plain": [
       "     Order ID                                            Grouped\n",
       "2      176560                      Google Phone,Wired Headphones\n",
       "17     176574                  Google Phone,USB-C Charging Cable\n",
       "29     176585  Bose SoundSport Headphones,Bose SoundSport Hea...\n",
       "31     176586                AAA Batteries (4-pack),Google Phone\n",
       "118    176672      Lightning Charging Cable,USB-C Charging Cable"
      ]
     },
     "execution_count": 24,
     "metadata": {},
     "output_type": "execute_result"
    }
   ],
   "source": [
    "df = all_data.loc[all_data['Order ID'].duplicated(keep=False)]\n",
    "df['Grouped'] = df.groupby('Order ID')['Product'].transform(lambda x : ','.join(x))\n",
    "df = df[['Order ID','Grouped']].drop_duplicates()\n",
    "df.head()"
   ]
  },
  {
   "cell_type": "code",
   "execution_count": 28,
   "id": "0d6d44a6",
   "metadata": {},
   "outputs": [
    {
     "name": "stdout",
     "output_type": "stream",
     "text": [
      "Combination of 2 products in single transaction\n",
      "\n",
      "('iPhone', 'Lightning Charging Cable') 1005\n",
      "('Google Phone', 'USB-C Charging Cable') 987\n",
      "('iPhone', 'Wired Headphones') 447\n",
      "('Google Phone', 'Wired Headphones') 414\n",
      "('Vareebadd Phone', 'USB-C Charging Cable') 361\n",
      "('iPhone', 'Apple Airpods Headphones') 360\n",
      "('Google Phone', 'Bose SoundSport Headphones') 220\n",
      "('USB-C Charging Cable', 'Wired Headphones') 160\n",
      "('Vareebadd Phone', 'Wired Headphones') 143\n",
      "('Lightning Charging Cable', 'Wired Headphones') 92\n",
      "\n",
      "Combination of 3 products in single transaction\n",
      "\n",
      "('Google Phone', 'USB-C Charging Cable', 'Wired Headphones') 87\n",
      "('iPhone', 'Lightning Charging Cable', 'Wired Headphones') 62\n",
      "('iPhone', 'Lightning Charging Cable', 'Apple Airpods Headphones') 47\n",
      "('Google Phone', 'USB-C Charging Cable', 'Bose SoundSport Headphones') 35\n",
      "('Vareebadd Phone', 'USB-C Charging Cable', 'Wired Headphones') 33\n",
      "('iPhone', 'Apple Airpods Headphones', 'Wired Headphones') 27\n",
      "('Google Phone', 'Bose SoundSport Headphones', 'Wired Headphones') 24\n",
      "('Vareebadd Phone', 'USB-C Charging Cable', 'Bose SoundSport Headphones') 16\n",
      "('USB-C Charging Cable', 'Bose SoundSport Headphones', 'Wired Headphones') 5\n",
      "('Vareebadd Phone', 'Bose SoundSport Headphones', 'Wired Headphones') 5\n"
     ]
    }
   ],
   "source": [
    "# Referenced: https://stackoverflow.com/questions/52195887/counting-unique-pairs-of-numbers-into-a-python-dictionary\n",
    "from itertools import combinations\n",
    "from collections import Counter\n",
    "\n",
    "count1 = Counter()\n",
    "count2  = Counter()\n",
    "\n",
    "for row in df['Grouped']:\n",
    "    row_list= row.split(',')\n",
    "    count1.update(Counter(combinations(row_list,2)))  #to check pairs of 2 products only\n",
    "    count2.update(Counter(combinations(row_list,3)))\n",
    "    \n",
    "print('Combination of 2 products in single transaction\\n')\n",
    "for key,value in count1.most_common(10):\n",
    "    print(key, value)\n",
    "    \n",
    "print('\\nCombination of 3 products in single transaction\\n')\n",
    "for key,value in count2.most_common(10):\n",
    "    print(key, value)"
   ]
  },
  {
   "cell_type": "code",
   "execution_count": 90,
   "id": "8bc2b1bc",
   "metadata": {},
   "outputs": [
    {
     "data": {
      "text/plain": [
       "iPhone,Lightning Charging Cable                                            882\n",
       "Google Phone,USB-C Charging Cable                                          856\n",
       "iPhone,Wired Headphones                                                    361\n",
       "Vareebadd Phone,USB-C Charging Cable                                       312\n",
       "Google Phone,Wired Headphones                                              303\n",
       "                                                                          ... \n",
       "Google Phone,USB-C Charging Cable,Wired Headphones,USB-C Charging Cable      1\n",
       "34in Ultrawide Monitor,LG Washing Machine                                    1\n",
       "20in Monitor,iPhone                                                          1\n",
       "Google Phone,USB-C Charging Cable,Wired Headphones,27in FHD Monitor          1\n",
       "LG Washing Machine,AA Batteries (4-pack)                                     1\n",
       "Name: Grouped, Length: 366, dtype: int64"
      ]
     },
     "execution_count": 90,
     "metadata": {},
     "output_type": "execute_result"
    }
   ],
   "source": [
    "#df['Grouped'].value_counts() incorrect count"
   ]
  },
  {
   "cell_type": "markdown",
   "id": "36d63a13",
   "metadata": {},
   "source": [
    "#### What product sold the most? Why do you think it sold the most?"
   ]
  },
  {
   "cell_type": "code",
   "execution_count": 12,
   "id": "bbfe5c10",
   "metadata": {},
   "outputs": [
    {
     "data": {
      "text/plain": [
       "Product\n",
       "AAA Batteries (4-pack)        31017\n",
       "AA Batteries (4-pack)         27635\n",
       "USB-C Charging Cable          23975\n",
       "Lightning Charging Cable      23217\n",
       "Wired Headphones              20557\n",
       "Apple Airpods Headphones      15661\n",
       "Bose SoundSport Headphones    13457\n",
       "27in FHD Monitor               7550\n",
       "iPhone                         6849\n",
       "27in 4K Gaming Monitor         6244\n",
       "34in Ultrawide Monitor         6199\n",
       "Google Phone                   5532\n",
       "Flatscreen TV                  4819\n",
       "Macbook Pro Laptop             4728\n",
       "ThinkPad Laptop                4130\n",
       "20in Monitor                   4129\n",
       "Vareebadd Phone                2068\n",
       "LG Washing Machine              666\n",
       "LG Dryer                        646\n",
       "Name: Quantity Ordered, dtype: int64"
      ]
     },
     "execution_count": 12,
     "metadata": {},
     "output_type": "execute_result"
    }
   ],
   "source": [
    "res = all_data.groupby('Product')['Quantity Ordered'].sum().sort_values(ascending=False)\n",
    "res"
   ]
  },
  {
   "cell_type": "code",
   "execution_count": 13,
   "id": "3223ed3b",
   "metadata": {},
   "outputs": [
    {
     "data": {
      "text/plain": [
       "Text(0, 0.5, 'Quantity ordered')"
      ]
     },
     "execution_count": 13,
     "metadata": {},
     "output_type": "execute_result"
    },
    {
     "data": {
      "image/png": "[encoded data removed]",
      "text/plain": [
       "<Figure size 432x288 with 1 Axes>"
      ]
     },
     "metadata": {
      "needs_background": "light"
     },
     "output_type": "display_data"
    }
   ],
   "source": [
    "res.plot.bar()\n",
    "plt.xlabel('Product')\n",
    "plt.ylabel('Quantity ordered')"
   ]
  },
  {
   "cell_type": "markdown",
   "id": "3393b200",
   "metadata": {},
   "source": [
    "Batteries are cheap compared to Washing machine etc, that is why maybe they are ordered the most"
   ]
  },
  {
   "cell_type": "markdown",
   "id": "d9d9e06e",
   "metadata": {},
   "source": [
    "##### Overlaying a secondary axis(y-axis) on existing chart"
   ]
  },
  {
   "cell_type": "code",
   "execution_count": 20,
   "id": "6601483a",
   "metadata": {},
   "outputs": [
    {
     "name": "stderr",
     "output_type": "stream",
     "text": [
      "C:\\Users\\user\\AppData\\Local\\Temp/ipykernel_7896/3858365163.py:17: UserWarning: FixedFormatter should only be used together with FixedLocator\n",
      "  ax1.set_xticklabels(keys, rotation='vertical', size=8)\n"
     ]
    },
    {
     "data": {
      "image/png": "[encoded data removed]",
      "text/plain": [
       "<Figure size 432x288 with 2 Axes>"
      ]
     },
     "metadata": {
      "needs_background": "light"
     },
     "output_type": "display_data"
    }
   ],
   "source": [
    "## ##### Prices and quantity ordered relation\n",
    "\n",
    "prices = all_data.groupby('Product').mean()['Price Each']\n",
    "\n",
    "product_group = all_data.groupby('Product')\n",
    "quantity_ordered = product_group.sum()['Quantity Ordered']\n",
    "\n",
    "keys = [pair for pair, df in product_group]\n",
    "\n",
    "fig, ax1 = plt.subplots()\n",
    "\n",
    "ax2 = ax1.twinx()\n",
    "ax1.bar(keys, quantity_ordered, color='g')\n",
    "ax2.plot(keys, prices, color='b')\n",
    "\n",
    "ax1.set_xlabel('Product Name')\n",
    "ax1.set_ylabel('Quantity Ordered', color='g')\n",
    "ax2.set_ylabel('Price ($)', color='b')\n",
    "ax1.set_xticklabels(keys, rotation='vertical', size=8)\n",
    "\n",
    "plt.show()"
   ]
  },
  {
   "cell_type": "markdown",
   "id": "38f8687b",
   "metadata": {},
   "source": [
    " Macbook Pro laptop & thinkpad laptop - eventhoug prices are much higher than LG dryer,they are still having good sale. Check where & when is the sale most for these products and if we had age column, we could find which age group we should target to improve these products' sales."
   ]
  },
  {
   "cell_type": "code",
   "execution_count": 21,
   "id": "aa5bb31c",
   "metadata": {},
   "outputs": [
    {
     "data": {
      "text/plain": [
       "['20in Monitor',\n",
       " '27in 4K Gaming Monitor',\n",
       " '27in FHD Monitor',\n",
       " '34in Ultrawide Monitor',\n",
       " 'AA Batteries (4-pack)',\n",
       " 'AAA Batteries (4-pack)',\n",
       " 'Apple Airpods Headphones',\n",
       " 'Bose SoundSport Headphones',\n",
       " 'Flatscreen TV',\n",
       " 'Google Phone',\n",
       " 'LG Dryer',\n",
       " 'LG Washing Machine',\n",
       " 'Lightning Charging Cable',\n",
       " 'Macbook Pro Laptop',\n",
       " 'ThinkPad Laptop',\n",
       " 'USB-C Charging Cable',\n",
       " 'Vareebadd Phone',\n",
       " 'Wired Headphones',\n",
       " 'iPhone']"
      ]
     },
     "execution_count": 21,
     "metadata": {},
     "output_type": "execute_result"
    }
   ],
   "source": [
    "keys"
   ]
  },
  {
   "cell_type": "markdown",
   "id": "4fc79eac",
   "metadata": {},
   "source": [
    "#### What is the total transaction “penetration” for each product?"
   ]
  },
  {
   "cell_type": "code",
   "execution_count": null,
   "id": "6bd3934a",
   "metadata": {},
   "outputs": [],
   "source": []
  },
  {
   "cell_type": "code",
   "execution_count": null,
   "id": "bd8564f5",
   "metadata": {},
   "outputs": [],
   "source": []
  }
 ],
 "metadata": {
  "kernelspec": {
   "display_name": "Python 3 (ipykernel)",
   "language": "python",
   "name": "python3"
  },
  "language_info": {
   "codemirror_mode": {
    "name": "ipython",
    "version": 3
   },
   "file_extension": ".py",
   "mimetype": "text/x-python",
   "name": "python",
   "nbconvert_exporter": "python",
   "pygments_lexer": "ipython3",
   "version": "3.9.7"
  }
 },
 "nbformat": 4,
 "nbformat_minor": 5
}
